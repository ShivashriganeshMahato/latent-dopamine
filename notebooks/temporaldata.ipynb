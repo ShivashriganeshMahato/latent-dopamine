{
 "cells": [
  {
   "cell_type": "code",
   "execution_count": 1,
   "metadata": {},
   "outputs": [],
   "source": [
    "import numpy as np\n",
    "import pickle\n",
    "import h5py\n",
    "from temporaldata import Data, RegularTimeSeries, Interval\n",
    "import glob"
   ]
  },
  {
   "cell_type": "code",
   "execution_count": 2,
   "metadata": {},
   "outputs": [],
   "source": [
    "def extract_neural_data(data_dict, trials):\n",
    "    total_df = np.concatenate([df[:-45,:] for df in data_dict['df']])\n",
    "    total_df[np.isnan(total_df)] = 0\n",
    "    calcium = RegularTimeSeries(\n",
    "        df=total_df,\n",
    "        cue_onsets=np.concatenate([co[:-45,:] for co in data_dict['cue_onsets']]),\n",
    "        sampling_rate=30,\n",
    "        domain=trials,\n",
    "    )\n",
    "    return calcium"
   ]
  },
  {
   "cell_type": "code",
   "execution_count": 3,
   "metadata": {},
   "outputs": [],
   "source": [
    "def extract_trials(data_dict):\n",
    "    boundaries = np.cumsum([0] + [len(trial_df)-45 for trial_df in data_dict['df']]) / 30\n",
    "    trials = Interval(\n",
    "        start=boundaries[:-1],\n",
    "        end=boundaries[1:],\n",
    "        total_cues=np.squeeze(np.stack(data_dict['total_cues'])),\n",
    "        rewarded=np.squeeze(data_dict['rewarded']),\n",
    "        trial_mask=np.squeeze(data_dict['trial_mask']),\n",
    "    )\n",
    "    return trials"
   ]
  },
  {
   "cell_type": "code",
   "execution_count": 4,
   "metadata": {},
   "outputs": [],
   "source": [
    "def extract_behavior(data_dict, trials):\n",
    "    behavior = RegularTimeSeries(\n",
    "        position=np.concatenate(data_dict['position']),\n",
    "        view_angle=np.concatenate(data_dict['view_angle']),\n",
    "        velocity=np.concatenate(data_dict['velocity']),\n",
    "        angular_velocity=np.concatenate(data_dict['angular_velocity']),\n",
    "        sampling_rate=30,\n",
    "        domain=trials,\n",
    "    )\n",
    "    return behavior"
   ]
  },
  {
   "cell_type": "code",
   "execution_count": 5,
   "metadata": {},
   "outputs": [
    {
     "name": "stdout",
     "output_type": "stream",
     "text": [
      "Saved 651_11-7-16.h5\n",
      "Saved 946_9-18-17.h5\n",
      "Saved 556_8-9-16.h5\n",
      "Saved 947_10-10-17_take_2_new_position.h5\n",
      "Saved 14974_3-8-16.h5\n",
      "Saved 150_1-16-18.h5\n",
      "Saved 1003_1-7-18.h5\n",
      "Saved 947_8-31-17.h5\n",
      "Saved 145_1-23-18.h5\n",
      "Saved 697_12-7-16.h5\n",
      "Saved 803_2-22-17.h5\n",
      "Saved 5330_8-1-16_take_2.h5\n",
      "Saved 14985_6-15-16.h5\n",
      "Saved 151_1-18-18.h5\n",
      "Saved 927_8-2-17.h5\n",
      "Saved 801_3-30-17.h5\n",
      "Saved 150_1-22-18.h5\n",
      "Saved 161_4-7-17.h5\n",
      "Saved 802_5-31-17.h5\n",
      "Saved 14972_3-10-16.h5\n",
      "Saved 151_1-17-18.h5\n",
      "Saved 147_1-19-18.h5\n",
      "Saved 131_1-8-18.h5\n"
     ]
    }
   ],
   "source": [
    "files = glob.glob('/home/hice1/smahato7/scratch/dop/data/' + '*.pkl')\n",
    "for file in files:\n",
    "    with open(file, 'rb') as f:\n",
    "        data_dict = pickle.load(f)\n",
    "        trials = extract_trials(data_dict)\n",
    "        neural = extract_neural_data(data_dict, trials)\n",
    "        behavior = extract_behavior(data_dict, trials)\n",
    "        data = Data(\n",
    "            session_id=file.split('/')[-1].split('.')[0],\n",
    "            neural=neural,\n",
    "            behavior=behavior,\n",
    "            trials=trials,\n",
    "            domain=trials,\n",
    "        )\n",
    "        with h5py.File('/home/hice1/smahato7/scratch/dop/data/' + data.session_id + '.h5', 'w') as h:\n",
    "            data.to_hdf5(h)\n",
    "            print('Saved ' + data.session_id + '.h5')"
   ]
  },
  {
   "cell_type": "code",
   "execution_count": null,
   "metadata": {},
   "outputs": [],
   "source": []
  }
 ],
 "metadata": {
  "kernelspec": {
   "display_name": "venv",
   "language": "python",
   "name": "python3"
  },
  "language_info": {
   "codemirror_mode": {
    "name": "ipython",
    "version": 3
   },
   "file_extension": ".py",
   "mimetype": "text/x-python",
   "name": "python",
   "nbconvert_exporter": "python",
   "pygments_lexer": "ipython3",
   "version": "3.9.18"
  }
 },
 "nbformat": 4,
 "nbformat_minor": 2
}
